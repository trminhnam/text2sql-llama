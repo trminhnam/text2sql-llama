{
 "cells": [
  {
   "cell_type": "code",
   "execution_count": 9,
   "metadata": {},
   "outputs": [],
   "source": [
    "import sqlparse\n",
    "import sqlvalidator\n",
    "\n",
    "sql = \"\"\"SELECT MAX(Share), MIN(Share) FROM performance WHERE Type != \\\"Live final\\\"\"\"\"\n",
    "\n",
    "sql_query = sqlvalidator.parse(sql)"
   ]
  },
  {
   "cell_type": "code",
   "execution_count": 12,
   "metadata": {},
   "outputs": [
    {
     "name": "stdout",
     "output_type": "stream",
     "text": [
      "[<DML 'SELECT' at 0x10B5CFC40>, <Whitespace ' ' at 0x10B5CFA00>, <IdentifierList 'MAX(Sh...' at 0x10B5BBBA0>, <Whitespace ' ' at 0x10B5046A0>, <Keyword 'FROM' at 0x10B504F40>, <Whitespace ' ' at 0x10B504E20>, <Identifier 'perfor...' at 0x10B5BBB30>, <Whitespace ' ' at 0x10B504B20>, <Where 'WHERE ...' at 0x10B5BBAC0>]\n"
     ]
    }
   ],
   "source": [
    "statements = sqlparse.split(sql)\n",
    "for statement in statements:\n",
    "    parsed = sqlparse.parse(statement)[0]\n",
    "    print(parsed.tokens)"
   ]
  },
  {
   "cell_type": "code",
   "execution_count": 13,
   "metadata": {},
   "outputs": [
    {
     "data": {
      "text/plain": [
       "['SELECT MAX(Share), MIN(Share) FROM performance WHERE Type != \"Live final\"']"
      ]
     },
     "execution_count": 13,
     "metadata": {},
     "output_type": "execute_result"
    }
   ],
   "source": [
    "statements"
   ]
  },
  {
   "cell_type": "code",
   "execution_count": null,
   "metadata": {},
   "outputs": [],
   "source": []
  }
 ],
 "metadata": {
  "kernelspec": {
   "display_name": "peft",
   "language": "python",
   "name": "python3"
  },
  "language_info": {
   "codemirror_mode": {
    "name": "ipython",
    "version": 3
   },
   "file_extension": ".py",
   "mimetype": "text/x-python",
   "name": "python",
   "nbconvert_exporter": "python",
   "pygments_lexer": "ipython3",
   "version": "3.8.17"
  },
  "orig_nbformat": 4
 },
 "nbformat": 4,
 "nbformat_minor": 2
}
