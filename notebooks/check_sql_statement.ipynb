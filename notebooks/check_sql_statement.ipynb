{
 "cells": [
  {
   "cell_type": "markdown",
   "metadata": {},
   "source": [
    "## Create a database with sqlite3"
   ]
  },
  {
   "cell_type": "code",
   "execution_count": 67,
   "metadata": {},
   "outputs": [
    {
     "name": "stdout",
     "output_type": "stream",
     "text": [
      "Opened database successfully\n"
     ]
    }
   ],
   "source": [
    "import sqlite3\n",
    "\n",
    "conn = sqlite3.connect(\"javatpoint.db\")\n",
    "\n",
    "print(\"Opened database successfully\")"
   ]
  },
  {
   "cell_type": "code",
   "execution_count": 68,
   "metadata": {},
   "outputs": [
    {
     "name": "stdout",
     "output_type": "stream",
     "text": [
      "Opened database successfully\n",
      "Table created successfully\n"
     ]
    }
   ],
   "source": [
    "import sqlite3\n",
    "\n",
    "conn = sqlite3.connect(\"javatpoint.db\")\n",
    "print(\"Opened database successfully\")\n",
    "\n",
    "conn.execute(\n",
    "    \"\"\"CREATE TABLE Employees \n",
    "    (Id INT PRIMARY KEY     NOT NULL, \n",
    "    Name           TEXT    NOT NULL, \n",
    "    Age            INT     NOT NULL, \n",
    "    Address        CHAR(50), \n",
    "    Salary         REAL);\"\"\"\n",
    ")\n",
    "print(\"Table created successfully\")\n",
    "\n",
    "conn.close()"
   ]
  },
  {
   "cell_type": "code",
   "execution_count": 69,
   "metadata": {},
   "outputs": [
    {
     "name": "stdout",
     "output_type": "stream",
     "text": [
      "Opened database successfully\n",
      "Records inserted successfully\n"
     ]
    }
   ],
   "source": [
    "conn = sqlite3.connect(\"javatpoint.db\")\n",
    "print(\"Opened database successfully\")\n",
    "\n",
    "conn.execute(\n",
    "    \"\"\"INSERT INTO Employees (ID,NAME,AGE,ADDRESS,SALARY) VALUES (1, 'Ajeet', 27, 'Delhi', 20000.00 )\"\"\"\n",
    ")\n",
    "\n",
    "conn.execute(\n",
    "    \"\"\"INSERT INTO Employees (ID,NAME,AGE,ADDRESS,SALARY) VALUES (2, 'Allen', 22, 'London', 25000.00 )\"\"\"\n",
    ")\n",
    "\n",
    "conn.execute(\n",
    "    \"\"\"INSERT INTO Employees (ID,NAME,AGE,ADDRESS,SALARY) VALUES (3, 'Mark', 29, 'CA', 200000.00 )\"\"\"\n",
    ")\n",
    "\n",
    "conn.execute(\n",
    "    \"\"\"INSERT INTO Employees (ID,NAME,AGE,ADDRESS,SALARY) VALUES (4, 'Kanchan', 22, 'Ghaziabad ', 65000.00 )\"\"\"\n",
    ")\n",
    "\n",
    "conn.commit()\n",
    "print(\"Records inserted successfully\")\n",
    "conn.close()"
   ]
  },
  {
   "cell_type": "code",
   "execution_count": 70,
   "metadata": {},
   "outputs": [
    {
     "name": "stdout",
     "output_type": "stream",
     "text": [
      "Opened database successfully\n",
      "[(1, 'Ajeet', 27, 'Delhi', 20000.0), (2, 'Allen', 22, 'London', 25000.0), (3, 'Mark', 29, 'CA', 200000.0), (4, 'Kanchan', 22, 'Ghaziabad ', 65000.0)]\n"
     ]
    }
   ],
   "source": [
    "conn = sqlite3.connect(\"javatpoint.db\")\n",
    "print(\"Opened database successfully\")\n",
    "\n",
    "result = conn.execute(\"\"\"SELECT * FROM Employees\"\"\")\n",
    "print(result.fetchall())\n",
    "\n",
    "conn.close()"
   ]
  },
  {
   "cell_type": "code",
   "execution_count": 71,
   "metadata": {},
   "outputs": [
    {
     "name": "stdout",
     "output_type": "stream",
     "text": [
      "Opened database successfully\n",
      "[(4, 'Kanchan', 22, 'Ghaziabad ', 65000.0)]\n"
     ]
    }
   ],
   "source": [
    "conn = sqlite3.connect(\"javatpoint.db\")\n",
    "print(\"Opened database successfully\")\n",
    "\n",
    "query = \"\"\"SELECT * FROM Employees WHERE SALARY >= 65000 AND AGE <= 25\"\"\"\n",
    "result = conn.execute(query)\n",
    "print(result.fetchall())"
   ]
  },
  {
   "cell_type": "code",
   "execution_count": 76,
   "metadata": {},
   "outputs": [
    {
     "name": "stdout",
     "output_type": "stream",
     "text": [
      "[(2, 'Allen', 22, 'London', 25000.0)]\n"
     ]
    }
   ],
   "source": [
    "query = \"\"\"SELECT * FROM Employees WHERE ADDRESS = \"London\" \"\"\"\n",
    "result = conn.execute(query)\n",
    "print(result.fetchall())"
   ]
  },
  {
   "cell_type": "markdown",
   "metadata": {},
   "source": [
    "## Parsing SQL"
   ]
  },
  {
   "cell_type": "code",
   "execution_count": 2,
   "metadata": {},
   "outputs": [],
   "source": [
    "import sqlparse\n",
    "import sqlvalidator\n",
    "\n",
    "sql = \"\"\"SELECT MAX(Share), MIN(Share) FROM performance WHERE Type != \\\"Live final\\\"\"\"\"\n",
    "\n",
    "sql_query = sqlvalidator.parse(sql)"
   ]
  },
  {
   "cell_type": "code",
   "execution_count": 52,
   "metadata": {},
   "outputs": [
    {
     "name": "stdout",
     "output_type": "stream",
     "text": [
      "[<DML 'SELECT' at 0x116053820>, <Whitespace ' ' at 0x106F00940>, <Identifier 'Name' at 0x106F2CAC0>, <Whitespace ' ' at 0x106F00AC0>, <Keyword 'FROM' at 0x106F00820>, <Whitespace ' ' at 0x106F00760>, <Identifier 'Studen...' at 0x106F2CB30>, <Whitespace ' ' at 0x106F005E0>, <Where 'WHERE ...' at 0x106F2C970>]\n",
      "<class 'sqlparse.sql.Token'> The token is: \"SELECT\"\n",
      "<class 'sqlparse.sql.Token'> The token is: \" \"\n",
      "<class 'sqlparse.sql.Identifier'> The token is: \"Name\"\n",
      "<class 'sqlparse.sql.Token'> The token is: \" \"\n",
      "<class 'sqlparse.sql.Token'> The token is: \"FROM\"\n",
      "<class 'sqlparse.sql.Token'> The token is: \" \"\n",
      "<class 'sqlparse.sql.Identifier'> The token is: \"Students S\"\n",
      "<class 'sqlparse.sql.Token'> The token is: \" \"\n",
      "<class 'sqlparse.sql.Where'> The token is: \"WHERE S.Name = \"John\"\"\n"
     ]
    }
   ],
   "source": [
    "sql = \"\"\"SELECT Name FROM Students S WHERE S.Name = \\\"John\\\"\"\"\"\n",
    "\n",
    "parsed = sqlparse.parse(sql)[0]\n",
    "print(parsed.tokens)\n",
    "\n",
    "identifiers = []\n",
    "identifier_lists = []\n",
    "where_lists = []\n",
    "\n",
    "for token in parsed.tokens:\n",
    "    print(type(token), f'The token is: \"{token}\"')\n",
    "    if type(token) == sqlparse.sql.IdentifierList:\n",
    "        identifier_lists.append(token)\n",
    "    elif type(token) == sqlparse.sql.Where:\n",
    "        where_lists.append(token)\n",
    "    elif type(token) == sqlparse.sql.Identifier:\n",
    "        identifiers.append(token)"
   ]
  },
  {
   "cell_type": "code",
   "execution_count": 53,
   "metadata": {},
   "outputs": [],
   "source": [
    "for identifier_list in identifier_lists:\n",
    "    for identifier in identifier_list.get_identifiers():\n",
    "        print(type(identifier), f'The identifier is: \"{identifier}\"')"
   ]
  },
  {
   "cell_type": "code",
   "execution_count": 54,
   "metadata": {},
   "outputs": [
    {
     "name": "stdout",
     "output_type": "stream",
     "text": [
      "<class 'sqlparse.sql.Token'> The token is: \"WHERE\"\n",
      "<class 'sqlparse.sql.Token'> The token is: \" \"\n",
      "<class 'sqlparse.sql.Comparison'> The token is: \"S.Name = \"John\"\"\n"
     ]
    }
   ],
   "source": [
    "for token in where_lists[0].tokens:\n",
    "    print(type(token), f'The token is: \"{token}\"')"
   ]
  },
  {
   "cell_type": "code",
   "execution_count": 55,
   "metadata": {},
   "outputs": [
    {
     "data": {
      "text/plain": [
       "[<Identifier 'S.Name' at 0x106F2CA50>,\n",
       " <Whitespace ' ' at 0x106F00280>,\n",
       " <Comparison '=' at 0x106F00340>,\n",
       " <Whitespace ' ' at 0x106F002E0>,\n",
       " <Identifier '\"John\"' at 0x106F2C9E0>]"
      ]
     },
     "execution_count": 55,
     "metadata": {},
     "output_type": "execute_result"
    }
   ],
   "source": [
    "where_lists[0].tokens[2].tokens"
   ]
  },
  {
   "cell_type": "code",
   "execution_count": 51,
   "metadata": {},
   "outputs": [
    {
     "data": {
      "text/plain": [
       "'SELECT * FROM Students WHERE \"First name\" = \"Last name\"'"
      ]
     },
     "execution_count": 51,
     "metadata": {},
     "output_type": "execute_result"
    }
   ],
   "source": [
    "# case 1\n",
    "\"\"\"SELECT * FROM Students WHERE \"First name\" = 'Last name' \"\"\"\n",
    "\n",
    "# case 2\n",
    "\"\"\"SELECT * FROM Students WHERE \"First name\" = \"John\" \"\"\"\n",
    "\"\"\"SELECT * FROM Students WHERE \"First name\" = 'John' \"\"\"\n",
    "\n",
    "# case 3\n",
    "\"\"\"SELECT * FROM Students WHERE \"John\" = \"First name\" \"\"\""
   ]
  },
  {
   "cell_type": "code",
   "execution_count": null,
   "metadata": {},
   "outputs": [],
   "source": []
  }
 ],
 "metadata": {
  "kernelspec": {
   "display_name": "peft",
   "language": "python",
   "name": "python3"
  },
  "language_info": {
   "codemirror_mode": {
    "name": "ipython",
    "version": 3
   },
   "file_extension": ".py",
   "mimetype": "text/x-python",
   "name": "python",
   "nbconvert_exporter": "python",
   "pygments_lexer": "ipython3",
   "version": "3.8.17"
  },
  "orig_nbformat": 4
 },
 "nbformat": 4,
 "nbformat_minor": 2
}
