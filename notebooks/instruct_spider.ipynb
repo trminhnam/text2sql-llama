{
 "cells": [
  {
   "cell_type": "code",
   "execution_count": 42,
   "metadata": {},
   "outputs": [],
   "source": [
    "import json\n",
    "import re\n",
    "import os\n",
    "import pandas as pd\n",
    "import time\n",
    "\n",
    "import sqlvalidator\n",
    "\n",
    "from datasets import load_dataset\n",
    "from langdetect import detect\n",
    "\n",
    "\n",
    "def translate(source, target_lang='en'):\n",
    "    import googletrans as gt\n",
    "    return gt.translate(source, target_lang)\n",
    "\n",
    "CACHE_DIR = \"../cache\"\n",
    "SPIDER_DATASET_DIR = \"../dataset/spider/\""
   ]
  },
  {
   "cell_type": "code",
   "execution_count": 2,
   "metadata": {},
   "outputs": [],
   "source": [
    "def find_primary_keys_MYSQL_like(db_name, spider_primary):\n",
    "    df = spider_primary[spider_primary['Database name'] == db_name]\n",
    "    output = \"[\"\n",
    "    for index, row in df.iterrows():\n",
    "        output += row['Table Name'] + '.' + row['Primary Key'] +','\n",
    "    output = output[:-1]\n",
    "    output += \"]\\n\"\n",
    "    return output\n",
    "def creating_schema(DATASET_JSON):\n",
    "    schema_df = pd.read_json(DATASET_JSON)\n",
    "    schema_df = schema_df.drop(['column_names','table_names'], axis=1)\n",
    "    schema = []\n",
    "    f_keys = []\n",
    "    p_keys = []\n",
    "    for index, row in schema_df.iterrows():\n",
    "        tables = row['table_names_original']\n",
    "        col_names = row['column_names_original']\n",
    "        col_types = row['column_types']\n",
    "        foreign_keys = row['foreign_keys']\n",
    "        primary_keys = row['primary_keys']\n",
    "        for col, col_type in zip(col_names, col_types):\n",
    "            index, col_name = col\n",
    "            if index == -1:\n",
    "                for table in tables:\n",
    "                    schema.append([row['db_id'], table, '*', 'text'])\n",
    "            else:\n",
    "                schema.append([row['db_id'], tables[index], col_name, col_type])\n",
    "        for primary_key in primary_keys:\n",
    "            index, column = col_names[primary_key]\n",
    "            p_keys.append([row['db_id'], tables[index], column])\n",
    "        for foreign_key in foreign_keys:\n",
    "            first, second = foreign_key\n",
    "            first_index, first_column = col_names[first]\n",
    "            second_index, second_column = col_names[second]\n",
    "            f_keys.append([row['db_id'], tables[first_index], tables[second_index], first_column, second_column])\n",
    "    spider_schema = pd.DataFrame(schema, columns=['Database name', ' Table Name', ' Field Name', ' Type'])\n",
    "    spider_primary = pd.DataFrame(p_keys, columns=['Database name', 'Table Name', 'Primary Key'])\n",
    "    spider_foreign = pd.DataFrame(\n",
    "        f_keys,\n",
    "        columns=[\n",
    "            'Database name', 'First Table Name', 'Second Table Name', 'First Table Foreign Key',\n",
    "            'Second Table Foreign Key'\n",
    "        ]\n",
    "    )\n",
    "    return spider_schema,spider_primary,spider_foreign"
   ]
  },
  {
   "cell_type": "code",
   "execution_count": 3,
   "metadata": {},
   "outputs": [],
   "source": [
    "def convert_type_to_sql_type(type):\n",
    "    if type == 'text':\n",
    "        return 'VARCHAR'\n",
    "    elif type == 'integer' or type == 'number' or type == 'int':\n",
    "        return 'INTEGER'\n",
    "    elif type == 'time':\n",
    "        return 'DATETIME'\n",
    "    elif type == 'boolean':\n",
    "        return 'BOOLEAN'\n",
    "    elif type == 'real' or type == 'float' or type == 'double':\n",
    "        return 'FLOAT'\n",
    "    elif type == 'others':\n",
    "        return 'BOOLEAN'\n",
    "    else:\n",
    "        return 'VARCHAR'\n",
    "\n",
    "def get_context_with_db_name(db_name, spider_schema, spider_primary, spider_foreign):\n",
    "    # find all tables related to db_name\n",
    "    df = spider_schema[spider_schema['Database name'] == db_name]\n",
    "    df = df.groupby(' Table Name')\n",
    "    tables = []\n",
    "    for name, group in df:\n",
    "        table = {}\n",
    "        table['name'] = name\n",
    "        table['columns'] = []\n",
    "        for index, row in group.iterrows():\n",
    "            table['columns'].append((row[\" Field Name\"], row[\" Type\"]))\n",
    "        tables.append(table)\n",
    "        \n",
    "    # for each table, create the \"CREATE TABLE\" statement and append it to context\n",
    "    statements = []\n",
    "    for table in tables:\n",
    "        statement = \"CREATE TABLE \" + table['name'] + \" (\"\n",
    "        for idx, column in enumerate(table['columns']):\n",
    "            col_name = column[0]\n",
    "            col_type = column[1]\n",
    "            if col_name == '*':\n",
    "                continue\n",
    "            if ' ' in col_name:\n",
    "                col_name = '\"' + col_name + '\"'\n",
    "            \n",
    "            \n",
    "            statement += col_name + \" \" + col_type\n",
    "            if idx != len(table['columns']) - 1:\n",
    "                statement += \", \"\n",
    "        statement = statement + \")\"\n",
    "        statements.append(statement)\n",
    "    \n",
    "    # print(\"; \".join(statements))\n",
    "    return \"; \".join(statements)"
   ]
  },
  {
   "cell_type": "code",
   "execution_count": 4,
   "metadata": {},
   "outputs": [],
   "source": [
    "def preprocess_text(text):\n",
    "    text = text.replace('\\n', ' ')\n",
    "    text = re.sub(r'\\s+', ' ', text)\n",
    "    text = re.sub(r'\\(\\s+', '(', text)\n",
    "    text = re.sub(r'\\s+\\)', ')', text)\n",
    "    text = text.replace(' ,  ', ', ')\n",
    "    text = text.replace(' .  ', '. ')\n",
    "    text = text.replace(' ,' , ',')\n",
    "    return text"
   ]
  },
  {
   "cell_type": "code",
   "execution_count": 22,
   "metadata": {},
   "outputs": [],
   "source": [
    "spider_schema,spider_primary,spider_foreign = creating_schema(\n",
    "    os.path.join(SPIDER_DATASET_DIR, 'tables.json')\n",
    ")"
   ]
  },
  {
   "cell_type": "code",
   "execution_count": 23,
   "metadata": {},
   "outputs": [
    {
     "name": "stdout",
     "output_type": "stream",
     "text": [
      "7000\n"
     ]
    },
    {
     "data": {
      "text/html": [
       "<div>\n",
       "<style scoped>\n",
       "    .dataframe tbody tr th:only-of-type {\n",
       "        vertical-align: middle;\n",
       "    }\n",
       "\n",
       "    .dataframe tbody tr th {\n",
       "        vertical-align: top;\n",
       "    }\n",
       "\n",
       "    .dataframe thead th {\n",
       "        text-align: right;\n",
       "    }\n",
       "</style>\n",
       "<table border=\"1\" class=\"dataframe\">\n",
       "  <thead>\n",
       "    <tr style=\"text-align: right;\">\n",
       "      <th></th>\n",
       "      <th>db_id</th>\n",
       "      <th>query</th>\n",
       "      <th>query_toks</th>\n",
       "      <th>query_toks_no_value</th>\n",
       "      <th>question</th>\n",
       "      <th>question_toks</th>\n",
       "      <th>sql</th>\n",
       "    </tr>\n",
       "  </thead>\n",
       "  <tbody>\n",
       "    <tr>\n",
       "      <th>0</th>\n",
       "      <td>department_management</td>\n",
       "      <td>SELECT count(*) FROM head WHERE age  &gt;  56</td>\n",
       "      <td>[SELECT, count, (, *, ), FROM, head, WHERE, ag...</td>\n",
       "      <td>[select, count, (, *, ), from, head, where, ag...</td>\n",
       "      <td>How many heads of the departments are older th...</td>\n",
       "      <td>[How, many, heads, of, the, departments, are, ...</td>\n",
       "      <td>{'from': {'table_units': [['table_unit', 1]], ...</td>\n",
       "    </tr>\n",
       "    <tr>\n",
       "      <th>1</th>\n",
       "      <td>department_management</td>\n",
       "      <td>SELECT name ,  born_state ,  age FROM head ORD...</td>\n",
       "      <td>[SELECT, name, ,, born_state, ,, age, FROM, he...</td>\n",
       "      <td>[select, name, ,, born_state, ,, age, from, he...</td>\n",
       "      <td>List the name, born state and age of the heads...</td>\n",
       "      <td>[List, the, name, ,, born, state, and, age, of...</td>\n",
       "      <td>{'from': {'table_units': [['table_unit', 1]], ...</td>\n",
       "    </tr>\n",
       "    <tr>\n",
       "      <th>2</th>\n",
       "      <td>department_management</td>\n",
       "      <td>SELECT creation ,  name ,  budget_in_billions ...</td>\n",
       "      <td>[SELECT, creation, ,, name, ,, budget_in_billi...</td>\n",
       "      <td>[select, creation, ,, name, ,, budget_in_billi...</td>\n",
       "      <td>List the creation year, name and budget of eac...</td>\n",
       "      <td>[List, the, creation, year, ,, name, and, budg...</td>\n",
       "      <td>{'from': {'table_units': [['table_unit', 0]], ...</td>\n",
       "    </tr>\n",
       "    <tr>\n",
       "      <th>3</th>\n",
       "      <td>department_management</td>\n",
       "      <td>SELECT max(budget_in_billions) ,  min(budget_i...</td>\n",
       "      <td>[SELECT, max, (, budget_in_billions, ), ,, min...</td>\n",
       "      <td>[select, max, (, budget_in_billions, ), ,, min...</td>\n",
       "      <td>What are the maximum and minimum budget of the...</td>\n",
       "      <td>[What, are, the, maximum, and, minimum, budget...</td>\n",
       "      <td>{'from': {'table_units': [['table_unit', 0]], ...</td>\n",
       "    </tr>\n",
       "    <tr>\n",
       "      <th>4</th>\n",
       "      <td>department_management</td>\n",
       "      <td>SELECT avg(num_employees) FROM department WHER...</td>\n",
       "      <td>[SELECT, avg, (, num_employees, ), FROM, depar...</td>\n",
       "      <td>[select, avg, (, num_employees, ), from, depar...</td>\n",
       "      <td>What is the average number of employees of the...</td>\n",
       "      <td>[What, is, the, average, number, of, employees...</td>\n",
       "      <td>{'from': {'table_units': [['table_unit', 0]], ...</td>\n",
       "    </tr>\n",
       "  </tbody>\n",
       "</table>\n",
       "</div>"
      ],
      "text/plain": [
       "                   db_id                                              query  \\\n",
       "0  department_management         SELECT count(*) FROM head WHERE age  >  56   \n",
       "1  department_management  SELECT name ,  born_state ,  age FROM head ORD...   \n",
       "2  department_management  SELECT creation ,  name ,  budget_in_billions ...   \n",
       "3  department_management  SELECT max(budget_in_billions) ,  min(budget_i...   \n",
       "4  department_management  SELECT avg(num_employees) FROM department WHER...   \n",
       "\n",
       "                                          query_toks  \\\n",
       "0  [SELECT, count, (, *, ), FROM, head, WHERE, ag...   \n",
       "1  [SELECT, name, ,, born_state, ,, age, FROM, he...   \n",
       "2  [SELECT, creation, ,, name, ,, budget_in_billi...   \n",
       "3  [SELECT, max, (, budget_in_billions, ), ,, min...   \n",
       "4  [SELECT, avg, (, num_employees, ), FROM, depar...   \n",
       "\n",
       "                                 query_toks_no_value  \\\n",
       "0  [select, count, (, *, ), from, head, where, ag...   \n",
       "1  [select, name, ,, born_state, ,, age, from, he...   \n",
       "2  [select, creation, ,, name, ,, budget_in_billi...   \n",
       "3  [select, max, (, budget_in_billions, ), ,, min...   \n",
       "4  [select, avg, (, num_employees, ), from, depar...   \n",
       "\n",
       "                                            question  \\\n",
       "0  How many heads of the departments are older th...   \n",
       "1  List the name, born state and age of the heads...   \n",
       "2  List the creation year, name and budget of eac...   \n",
       "3  What are the maximum and minimum budget of the...   \n",
       "4  What is the average number of employees of the...   \n",
       "\n",
       "                                       question_toks  \\\n",
       "0  [How, many, heads, of, the, departments, are, ...   \n",
       "1  [List, the, name, ,, born, state, and, age, of...   \n",
       "2  [List, the, creation, year, ,, name, and, budg...   \n",
       "3  [What, are, the, maximum, and, minimum, budget...   \n",
       "4  [What, is, the, average, number, of, employees...   \n",
       "\n",
       "                                                 sql  \n",
       "0  {'from': {'table_units': [['table_unit', 1]], ...  \n",
       "1  {'from': {'table_units': [['table_unit', 1]], ...  \n",
       "2  {'from': {'table_units': [['table_unit', 0]], ...  \n",
       "3  {'from': {'table_units': [['table_unit', 0]], ...  \n",
       "4  {'from': {'table_units': [['table_unit', 0]], ...  "
      ]
     },
     "execution_count": 23,
     "metadata": {},
     "output_type": "execute_result"
    }
   ],
   "source": [
    "train_spider = pd.read_json(os.path.join(SPIDER_DATASET_DIR, 'train_spider.json'))\n",
    "print(len(train_spider))\n",
    "train_spider.head()"
   ]
  },
  {
   "cell_type": "code",
   "execution_count": 24,
   "metadata": {},
   "outputs": [
    {
     "name": "stdout",
     "output_type": "stream",
     "text": [
      "1659\n"
     ]
    },
    {
     "data": {
      "text/html": [
       "<div>\n",
       "<style scoped>\n",
       "    .dataframe tbody tr th:only-of-type {\n",
       "        vertical-align: middle;\n",
       "    }\n",
       "\n",
       "    .dataframe tbody tr th {\n",
       "        vertical-align: top;\n",
       "    }\n",
       "\n",
       "    .dataframe thead th {\n",
       "        text-align: right;\n",
       "    }\n",
       "</style>\n",
       "<table border=\"1\" class=\"dataframe\">\n",
       "  <thead>\n",
       "    <tr style=\"text-align: right;\">\n",
       "      <th></th>\n",
       "      <th>db_id</th>\n",
       "      <th>query</th>\n",
       "      <th>query_toks</th>\n",
       "      <th>query_toks_no_value</th>\n",
       "      <th>question</th>\n",
       "      <th>question_toks</th>\n",
       "      <th>sql</th>\n",
       "    </tr>\n",
       "  </thead>\n",
       "  <tbody>\n",
       "    <tr>\n",
       "      <th>0</th>\n",
       "      <td>geo</td>\n",
       "      <td>SELECT city_name FROM city WHERE population  =...</td>\n",
       "      <td>[SELECT, city_name, FROM, city, WHERE, populat...</td>\n",
       "      <td>[select, city_name, from, city, where, populat...</td>\n",
       "      <td>what is the biggest city in wyoming</td>\n",
       "      <td>[what, is, the, biggest, city, in, wyoming]</td>\n",
       "      <td>{'from': {'table_units': [['table_unit', 1]], ...</td>\n",
       "    </tr>\n",
       "    <tr>\n",
       "      <th>1</th>\n",
       "      <td>geo</td>\n",
       "      <td>SELECT city_name FROM city WHERE population  =...</td>\n",
       "      <td>[SELECT, city_name, FROM, city, WHERE, populat...</td>\n",
       "      <td>[select, city_name, from, city, where, populat...</td>\n",
       "      <td>what wyoming city has the largest population</td>\n",
       "      <td>[what, wyoming, city, has, the, largest, popul...</td>\n",
       "      <td>{'from': {'table_units': [['table_unit', 1]], ...</td>\n",
       "    </tr>\n",
       "    <tr>\n",
       "      <th>2</th>\n",
       "      <td>geo</td>\n",
       "      <td>SELECT city_name FROM city WHERE population  =...</td>\n",
       "      <td>[SELECT, city_name, FROM, city, WHERE, populat...</td>\n",
       "      <td>[select, city_name, from, city, where, populat...</td>\n",
       "      <td>what is the largest city in wyoming</td>\n",
       "      <td>[what, is, the, largest, city, in, wyoming]</td>\n",
       "      <td>{'from': {'table_units': [['table_unit', 1]], ...</td>\n",
       "    </tr>\n",
       "    <tr>\n",
       "      <th>3</th>\n",
       "      <td>geo</td>\n",
       "      <td>SELECT city_name FROM city WHERE population  =...</td>\n",
       "      <td>[SELECT, city_name, FROM, city, WHERE, populat...</td>\n",
       "      <td>[select, city_name, from, city, where, populat...</td>\n",
       "      <td>where is the most populated area of wyoming</td>\n",
       "      <td>[where, is, the, most, populated, area, of, wy...</td>\n",
       "      <td>{'from': {'table_units': [['table_unit', 1]], ...</td>\n",
       "    </tr>\n",
       "    <tr>\n",
       "      <th>4</th>\n",
       "      <td>geo</td>\n",
       "      <td>SELECT city_name FROM city WHERE population  =...</td>\n",
       "      <td>[SELECT, city_name, FROM, city, WHERE, populat...</td>\n",
       "      <td>[select, city_name, from, city, where, populat...</td>\n",
       "      <td>which city in wyoming has the largest population</td>\n",
       "      <td>[which, city, in, wyoming, has, the, largest, ...</td>\n",
       "      <td>{'from': {'table_units': [['table_unit', 1]], ...</td>\n",
       "    </tr>\n",
       "  </tbody>\n",
       "</table>\n",
       "</div>"
      ],
      "text/plain": [
       "  db_id                                              query  \\\n",
       "0   geo  SELECT city_name FROM city WHERE population  =...   \n",
       "1   geo  SELECT city_name FROM city WHERE population  =...   \n",
       "2   geo  SELECT city_name FROM city WHERE population  =...   \n",
       "3   geo  SELECT city_name FROM city WHERE population  =...   \n",
       "4   geo  SELECT city_name FROM city WHERE population  =...   \n",
       "\n",
       "                                          query_toks  \\\n",
       "0  [SELECT, city_name, FROM, city, WHERE, populat...   \n",
       "1  [SELECT, city_name, FROM, city, WHERE, populat...   \n",
       "2  [SELECT, city_name, FROM, city, WHERE, populat...   \n",
       "3  [SELECT, city_name, FROM, city, WHERE, populat...   \n",
       "4  [SELECT, city_name, FROM, city, WHERE, populat...   \n",
       "\n",
       "                                 query_toks_no_value  \\\n",
       "0  [select, city_name, from, city, where, populat...   \n",
       "1  [select, city_name, from, city, where, populat...   \n",
       "2  [select, city_name, from, city, where, populat...   \n",
       "3  [select, city_name, from, city, where, populat...   \n",
       "4  [select, city_name, from, city, where, populat...   \n",
       "\n",
       "                                           question  \\\n",
       "0               what is the biggest city in wyoming   \n",
       "1      what wyoming city has the largest population   \n",
       "2               what is the largest city in wyoming   \n",
       "3       where is the most populated area of wyoming   \n",
       "4  which city in wyoming has the largest population   \n",
       "\n",
       "                                       question_toks  \\\n",
       "0        [what, is, the, biggest, city, in, wyoming]   \n",
       "1  [what, wyoming, city, has, the, largest, popul...   \n",
       "2        [what, is, the, largest, city, in, wyoming]   \n",
       "3  [where, is, the, most, populated, area, of, wy...   \n",
       "4  [which, city, in, wyoming, has, the, largest, ...   \n",
       "\n",
       "                                                 sql  \n",
       "0  {'from': {'table_units': [['table_unit', 1]], ...  \n",
       "1  {'from': {'table_units': [['table_unit', 1]], ...  \n",
       "2  {'from': {'table_units': [['table_unit', 1]], ...  \n",
       "3  {'from': {'table_units': [['table_unit', 1]], ...  \n",
       "4  {'from': {'table_units': [['table_unit', 1]], ...  "
      ]
     },
     "execution_count": 24,
     "metadata": {},
     "output_type": "execute_result"
    }
   ],
   "source": [
    "train_others = pd.read_json(os.path.join(SPIDER_DATASET_DIR, 'train_others.json'))\n",
    "print(len(train_others))\n",
    "train_others.head()"
   ]
  },
  {
   "cell_type": "code",
   "execution_count": 25,
   "metadata": {},
   "outputs": [
    {
     "data": {
      "text/plain": [
       "'CREATE TABLE border_info (state_name text, border text); CREATE TABLE city (city_name text, population number, country_name text, state_name text); CREATE TABLE highlow (state_name text, highest_elevation text, lowest_point text, highest_point text, lowest_elevation text); CREATE TABLE lake (lake_name text, area number, country_name text, state_name text); CREATE TABLE mountain (mountain_name text, mountain_altitude number, country_name text, state_name text); CREATE TABLE river (river_name text, length number, country_name text, traverse text); CREATE TABLE state (state_name text, population number, area number, country_name text, capital text, density number)'"
      ]
     },
     "execution_count": 25,
     "metadata": {},
     "output_type": "execute_result"
    }
   ],
   "source": [
    "get_context_with_db_name('geo', spider_schema, spider_primary, spider_foreign)"
   ]
  },
  {
   "cell_type": "code",
   "execution_count": 28,
   "metadata": {},
   "outputs": [],
   "source": [
    "processed_dataset = {'train': []}\n",
    "for database in [train_spider, train_others]:\n",
    "    for idx, sample in database.iterrows():\n",
    "        db_id = sample['db_id']\n",
    "        answer = preprocess_text(sample['query'])\n",
    "        context = get_context_with_db_name(db_id, spider_schema, spider_primary, spider_foreign)\n",
    "        question = preprocess_text(sample['question'])\n",
    "        processed_dataset['train'].append({\n",
    "            'context': context,\n",
    "            'question': question,\n",
    "            'answer': answer\n",
    "        })\n"
   ]
  },
  {
   "cell_type": "code",
   "execution_count": 36,
   "metadata": {},
   "outputs": [],
   "source": [
    "dev_spider = pd.read_json(os.path.join(SPIDER_DATASET_DIR, 'dev.json'))\n",
    "processed_dataset['dev'] = []\n",
    "for idx, sample in dev_spider.iterrows():\n",
    "    db_id = sample['db_id']\n",
    "    answer = preprocess_text(sample['query'])\n",
    "    context = get_context_with_db_name(db_id, spider_schema, spider_primary, spider_foreign)\n",
    "    question = preprocess_text(sample['question'])\n",
    "    processed_dataset['dev'].append({\n",
    "        'context': context,\n",
    "        'question': question,\n",
    "        'answer': answer\n",
    "    })"
   ]
  },
  {
   "cell_type": "code",
   "execution_count": 37,
   "metadata": {},
   "outputs": [],
   "source": [
    "# save each subset to json file\n",
    "JSON_DIR = \"../dataset/SpiderInstruct_raw\"\n",
    "os.makedirs(JSON_DIR, exist_ok=True)\n",
    "for subset in processed_dataset:\n",
    "    with open(f\"{JSON_DIR}/{subset}.jsonl\", 'w', encoding='utf-8') as f:\n",
    "        for sample in processed_dataset[subset]:\n",
    "            json.dump(sample, f, ensure_ascii=False)\n",
    "            f.write('\\n')"
   ]
  },
  {
   "cell_type": "code",
   "execution_count": 39,
   "metadata": {},
   "outputs": [],
   "source": [
    "import os\n",
    "import tarfile\n",
    "\n",
    "def makr_tarfile(output_filename, source_dir):\n",
    "    with tarfile.open(output_filename, \"w:gz\") as tar:\n",
    "        tar.add(source_dir, arcname=os.path.basename(source_dir))\n",
    "        \n",
    "for subset in processed_dataset:\n",
    "    makr_tarfile(\n",
    "        os.path.join(JSON_DIR, f\"{subset}.tar.gz\"),\n",
    "        os.path.join(JSON_DIR, f\"{subset}.jsonl\")\n",
    "    )"
   ]
  },
  {
   "attachments": {},
   "cell_type": "markdown",
   "metadata": {},
   "source": [
    "## Load instruct spider from huggingface"
   ]
  },
  {
   "cell_type": "code",
   "execution_count": 43,
   "metadata": {},
   "outputs": [
    {
     "name": "stderr",
     "output_type": "stream",
     "text": [
      "No config specified, defaulting to: spider_instruct/default\n",
      "Found cached dataset spider_instruct (/Users/minhnam/Desktop/text2sql-llama/notebooks/../cache/tmnam20___spider_instruct/default/1.1.0/82503fc0f254eca221671f2703263205f9f09ba5f76e41217d6133e7e10c50c0)\n"
     ]
    },
    {
     "data": {
      "application/vnd.jupyter.widget-view+json": {
       "model_id": "dd8c9c052cdc48f1ac43a92b0b992414",
       "version_major": 2,
       "version_minor": 0
      },
      "text/plain": [
       "  0%|          | 0/2 [00:00<?, ?it/s]"
      ]
     },
     "metadata": {},
     "output_type": "display_data"
    },
    {
     "data": {
      "text/plain": [
       "DatasetDict({\n",
       "    train: Dataset({\n",
       "        features: ['answer', 'question', 'context'],\n",
       "        num_rows: 8659\n",
       "    })\n",
       "    validation: Dataset({\n",
       "        features: ['answer', 'question', 'context'],\n",
       "        num_rows: 1034\n",
       "    })\n",
       "})"
      ]
     },
     "execution_count": 43,
     "metadata": {},
     "output_type": "execute_result"
    }
   ],
   "source": [
    "from datasets import load_dataset\n",
    "\n",
    "CACHE_DIR = \"../cache\"\n",
    "\n",
    "dataset = load_dataset('tmnam20/SpiderInstruct', None, cache_dir=CACHE_DIR)\n",
    "dataset"
   ]
  },
  {
   "cell_type": "code",
   "execution_count": 44,
   "metadata": {},
   "outputs": [],
   "source": [
    "def generate_prompt_sql(question, context, answer=\"\"):\n",
    "    return f\"\"\"You are a powerful text-to-SQL model. Your job is to answer questions about a database. You are given a question and context regarding one or more tables. \n",
    "\n",
    "You must output the SQL query that answers the question.\n",
    "\n",
    "### Question:\n",
    "{question}\n",
    "\n",
    "### Context:\n",
    "{context}\n",
    "\n",
    "### Response:\n",
    "{answer}\"\"\""
   ]
  },
  {
   "cell_type": "code",
   "execution_count": 45,
   "metadata": {},
   "outputs": [
    {
     "name": "stdout",
     "output_type": "stream",
     "text": [
      "You are a powerful text-to-SQL model. Your job is to answer questions about a database. You are given a question and context regarding one or more tables. \n",
      "\n",
      "You must output the SQL query that answers the question.\n",
      "\n",
      "### Question:\n",
      "List the creation year, name and budget of each department.\n",
      "\n",
      "### Context:\n",
      "CREATE TABLE department (Department_ID number, Name text, Creation text, Ranking number, Budget_in_Billions number, Num_Employees number); CREATE TABLE head (head_ID number, name text, born_state text, age number); CREATE TABLE management (department_ID number, head_ID number, temporary_acting text)\n",
      "\n",
      "### Response:\n",
      "SELECT creation, name, budget_in_billions FROM department\n"
     ]
    }
   ],
   "source": [
    "print(generate_prompt_sql(**dataset['train'][2]))"
   ]
  },
  {
   "cell_type": "code",
   "execution_count": 46,
   "metadata": {},
   "outputs": [
    {
     "data": {
      "text/plain": [
       "{'answer': 'SELECT count(*) FROM head WHERE age > 56',\n",
       " 'question': 'How many heads of the departments are older than 56 ?',\n",
       " 'context': 'CREATE TABLE department (Department_ID number, Name text, Creation text, Ranking number, Budget_in_Billions number, Num_Employees number); CREATE TABLE head (head_ID number, name text, born_state text, age number); CREATE TABLE management (department_ID number, head_ID number, temporary_acting text)'}"
      ]
     },
     "execution_count": 46,
     "metadata": {},
     "output_type": "execute_result"
    }
   ],
   "source": [
    "dataset['train'][0]"
   ]
  },
  {
   "attachments": {},
   "cell_type": "markdown",
   "metadata": {},
   "source": [
    "## Llama prompt"
   ]
  },
  {
   "cell_type": "code",
   "execution_count": 79,
   "metadata": {},
   "outputs": [],
   "source": [
    "from transformers import CodeLlamaTokenizer\n",
    "\n",
    "model_name_or_path = \"codellama/CodeLlama-7b-Instruct-hf\"\n",
    "\n",
    "tokenizer = CodeLlamaTokenizer.from_pretrained(\n",
    "    model_name_or_path,\n",
    "    padding_side=\"left\",\n",
    "    use_fast=False,\n",
    "    cache_dir=CACHE_DIR\n",
    ")"
   ]
  },
  {
   "cell_type": "code",
   "execution_count": 80,
   "metadata": {},
   "outputs": [
    {
     "data": {
      "text/plain": [
       "'SELECT COUNT(\"metropolitan area\") FROM table_204_317 WHERE \"country\" = \\'united states\\'</s>'"
      ]
     },
     "execution_count": 80,
     "metadata": {},
     "output_type": "execute_result"
    }
   ],
   "source": [
    "tokenizer.decode([\n",
    "    5097, 21122,   703,\n",
    "          2527, 10759,  8929,  4038,  1159,  3895,  1591, 29918, 29906, 29900,\n",
    "         29946, 29918, 29941, 29896, 29955,  5754,   376, 13509, 29908,   353,\n",
    "           525,   348,  1573,  5922, 29915,     2\n",
    "])"
   ]
  },
  {
   "cell_type": "code",
   "execution_count": 76,
   "metadata": {},
   "outputs": [],
   "source": [
    "B_INST, E_INST = \"[INST]\", \"[/INST]\"\n",
    "B_SYS, E_SYS = \"<<SYS>>\\n\", \"\\n<</SYS>>\\n\\n\"\n",
    "\n",
    "SPECIAL_TAGS = [B_INST, E_INST, \"<<SYS>>\", \"<</SYS>>\"]\n",
    "UNSAFE_ERROR = \"Error: special tags are not allowed as part of the prompt.\"\n",
    "\n",
    "SQL_PROMPT = \"\"\"You are a powerful text-to-SQL model. You are given a question and context regarding one or more tables. Your job is output the SQL query that answers the question.\"\"\"\n",
    "\n",
    "\n",
    "def generate_prompt_sql(question, context, answer=\"\"):\n",
    "    return f\"\"\"{B_INST} {B_SYS}{SQL_PROMPT.strip()}{E_SYS}### Question:\n",
    "{question}\n",
    "\n",
    "### Context:\n",
    "{context} {E_INST} {answer}\"\"\""
   ]
  },
  {
   "cell_type": "code",
   "execution_count": 77,
   "metadata": {},
   "outputs": [
    {
     "name": "stdout",
     "output_type": "stream",
     "text": [
      "[INST] <<SYS>>\n",
      "You are a powerful text-to-SQL model. You are given a question and context regarding one or more tables. Your job is output the SQL query that answers the question.\n",
      "<</SYS>>\n",
      "\n",
      "### Question:\n",
      "How many heads of the departments are older than 56 ?\n",
      "\n",
      "### Context:\n",
      "CREATE TABLE department (Department_ID number, Name text, Creation text, Ranking number, Budget_in_Billions number, Num_Employees number); CREATE TABLE head (head_ID number, name text, born_state text, age number); CREATE TABLE management (department_ID number, head_ID number, temporary_acting text) [/INST] SELECT count(*) FROM head WHERE age > 56\n"
     ]
    }
   ],
   "source": [
    "print(generate_prompt_sql(**dataset['train'][0]))"
   ]
  },
  {
   "cell_type": "code",
   "execution_count": 78,
   "metadata": {},
   "outputs": [
    {
     "name": "stdout",
     "output_type": "stream",
     "text": [
      "Lenght of input_ids_no_answer: 162\n",
      "[1, 518, 25580, 29962, 3532, 14816, 29903, 6778, 13, 3492, 526, 263, 13988, 1426, 29899, 517, 29899, 4176, 1904, 29889, 887, 526, 2183, 263, 1139, 322, 3030, 11211, 697, 470, 901, 6131, 29889, 3575, 4982, 338, 1962, 278, 3758, 2346, 393, 6089, 278, 1139, 29889, 13, 29966, 829, 14816, 29903, 6778, 13, 13, 2277, 29937, 894, 29901, 13, 5618, 526, 278, 7472, 322, 9212, 23562, 310, 278, 5840, 1860, 29973, 13, 13, 2277, 29937, 15228, 29901, 13, 27045, 10911, 14311, 313, 8498, 442, 358, 29918, 1367, 1353, 29892, 4408, 1426, 29892, 6760, 362, 1426, 29892, 22125, 292, 1353, 29892, 7038, 657, 29918, 262, 29918, 29933, 453, 1080, 1353, 29892, 11848, 29918, 10495, 2376, 12712, 1353, 416, 14602, 10911, 2343, 313, 2813, 29918, 1367, 1353, 29892, 1024, 1426, 29892, 6345, 29918, 3859, 1426, 29892, 5046, 1353, 416, 14602, 10911, 10643, 313, 311, 8076, 29918, 1367, 1353, 29892, 2343, 29918, 1367, 1353, 29892, 13201, 29918, 627, 292, 1426, 29897, 518, 29914, 25580, 29962, 5097, 4236, 29898, 15841, 657, 29918, 262, 29918, 29890, 453, 1080, 511, 1375, 29898, 15841, 657, 29918, 262, 29918, 29890, 453, 1080, 29897, 3895, 14311, 2]\n",
      "Input length: 187\n",
      "Decoded input: <s> [INST] <<SYS>>\n",
      "You are a powerful text-to-SQL model. You are given a question and context regarding one or more tables. Your job is output the SQL query that answers the question.\n",
      "<</SYS>>\n",
      "\n",
      "### Question:\n",
      "What are the maximum and minimum budget of the departments?\n",
      "\n",
      "### Context:\n",
      "CREATE TABLE department (Department_ID number, Name text, Creation text, Ranking number, Budget_in_Billions number, Num_Employees number); CREATE TABLE head (head_ID number, name text, born_state text, age number); CREATE TABLE management (department_ID number, head_ID number, temporary_acting text) [/INST] SELECT max(budget_in_billions), min(budget_in_billions) FROM department</s>\n",
      "Decoded answer: SELECT max(budget_in_billions), min(budget_in_billions) FROM department</s>\n"
     ]
    }
   ],
   "source": [
    "idx = 3\n",
    "\n",
    "input_ids_no_answer = tokenizer(\n",
    "    generate_prompt_sql(\n",
    "        dataset['train'][idx]['question'],\n",
    "        dataset['train'][idx]['context'],\n",
    "        # dataset['train'][idx]['answer']\n",
    "    ),\n",
    ")['input_ids']\n",
    "print(f'Lenght of input_ids_no_answer: {len(input_ids_no_answer)}')\n",
    "\n",
    "input_ids = tokenizer(\n",
    "    generate_prompt_sql(\n",
    "        dataset['train'][idx]['question'],\n",
    "        dataset['train'][idx]['context'],\n",
    "        dataset['train'][idx]['answer']\n",
    "    ) + tokenizer.eos_token,\n",
    ")['input_ids']\n",
    "\n",
    "print(input_ids)\n",
    "print(f'Input length: {len(input_ids)}')\n",
    "\n",
    "decoded_input_ids = tokenizer.decode(input_ids)\n",
    "print(f'Decoded input: {decoded_input_ids}')\n",
    "\n",
    "decoded_answer = tokenizer.decode(input_ids[len(input_ids_no_answer) - 1:])\n",
    "print(f'Decoded answer: {decoded_answer}')\n",
    "assert decoded_answer == dataset['train'][idx]['answer'] + tokenizer.eos_token"
   ]
  },
  {
   "cell_type": "code",
   "execution_count": null,
   "metadata": {},
   "outputs": [],
   "source": []
  }
 ],
 "metadata": {
  "kernelspec": {
   "display_name": "base",
   "language": "python",
   "name": "python3"
  },
  "language_info": {
   "codemirror_mode": {
    "name": "ipython",
    "version": 3
   },
   "file_extension": ".py",
   "mimetype": "text/x-python",
   "name": "python",
   "nbconvert_exporter": "python",
   "pygments_lexer": "ipython3",
   "version": "3.8.17"
  },
  "orig_nbformat": 4
 },
 "nbformat": 4,
 "nbformat_minor": 2
}
