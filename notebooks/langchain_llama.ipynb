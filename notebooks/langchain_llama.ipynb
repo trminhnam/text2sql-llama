{
 "cells": [
  {
   "cell_type": "code",
   "execution_count": null,
   "metadata": {},
   "outputs": [],
   "source": [
    "import torch\n",
    "from transformers import LlamaTokenizer, LlamaForCausalLM, pipeline, BitsAndBytesConfig\n",
    "from langchain.llms import HuggingFacePipeline\n",
    "from langchain import PromptTemplate, LLMChain\n",
    "\n",
    "CACHE_DIR = \"../cache\"\n",
    "\n",
    "model_name_or_path = \"meta-llama/Llama-2-7b-hf\"  # \"chavinlo/alpaca-native\"\n",
    "\n",
    "bnb_config = BitsAndBytesConfig(\n",
    "    # load_in_8bit=True,\n",
    "    load_in_4bit=True,\n",
    "    bnb_4bit_quant_type=\"nf4\",\n",
    "    bnb_4bit_compute_dtype=torch.bfloat16,\n",
    "    bnb_4bit_use_double_quant=True,\n",
    ")"
   ]
  },
  {
   "cell_type": "code",
   "execution_count": null,
   "metadata": {},
   "outputs": [],
   "source": [
    "tokenizer = LlamaTokenizer.from_pretrained(model_name_or_path)\n",
    "\n",
    "base_model = LlamaForCausalLM.from_pretrained(\n",
    "    model_name_or_path,\n",
    "    quantization_config=bnb_config,\n",
    "    device_map=\"auto\",\n",
    ")"
   ]
  },
  {
   "cell_type": "code",
   "execution_count": null,
   "metadata": {},
   "outputs": [],
   "source": [
    "pipe = pipeline(\n",
    "    \"text-generation\",\n",
    "    model=base_model,\n",
    "    tokenizer=tokenizer,\n",
    "    max_length=500,\n",
    "    temperature=0.3,\n",
    "    top_p=0.95,\n",
    "    repetition_penalty=1.2,\n",
    ")\n",
    "\n",
    "\n",
    "template = \"\"\"\n",
    "Write a SQL Query given the table name {Table} and columns as a list {Columns} for the given question : \n",
    "{question}.\n",
    "\"\"\"\n",
    "\n",
    "prompt = PromptTemplate(\n",
    "    template=template, input_variables=[\"Table\", \"question\", \"Columns\"]\n",
    ")\n",
    "\n",
    "\n",
    "local_llm = HuggingFacePipeline(pipeline=pipe)\n",
    "llm_chain = LLMChain(prompt=prompt, llm=local_llm)\n",
    "\n",
    "\n",
    "def get_llm_response(tble, question, cols):\n",
    "    llm_chain = LLMChain(prompt=prompt, llm=local_llm)\n",
    "    response = llm_chain.run({\"Table\": tble, \"question\": question, \"Columns\": cols})\n",
    "    print(response)\n",
    "    return response"
   ]
  },
  {
   "cell_type": "code",
   "execution_count": null,
   "metadata": {},
   "outputs": [],
   "source": [
    "tble = \"employee\"\n",
    "cols = [\"id\", \"name\", \"date_of_birth\", \"band\", \"manager_id\"]\n",
    "question = \"Query the count of employees in band L6 with 239045 as the manager ID\"\n",
    "get_llm_response(tble, question, cols)\n",
    "\n",
    "## Answer: SELECT COUNT(*) FROM employee WHERE band='L6' AND manager_id=239045;"
   ]
  },
  {
   "cell_type": "code",
   "execution_count": null,
   "metadata": {},
   "outputs": [],
   "source": [
    "tble = \"employee\"\n",
    "cols = [\"id\", \"name\", \"date_of_birth\", \"band\", \"manager_id\"]\n",
    "question = \"Query the count of employees in band L6 and over 40 years of age\"\n",
    "get_llm_response(tble, question, cols)\n",
    "\n",
    "## Answer: SELECT COUNT(*) FROM employee WHERE band='L6' AND date_of_birth>=(CURDATE() - INTERVAL 40 YEAR);"
   ]
  }
 ],
 "metadata": {
  "language_info": {
   "name": "python"
  },
  "orig_nbformat": 4
 },
 "nbformat": 4,
 "nbformat_minor": 2
}
